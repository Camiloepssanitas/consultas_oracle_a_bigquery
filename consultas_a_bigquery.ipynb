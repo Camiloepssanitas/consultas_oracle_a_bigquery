{
 "cells": [
  {
   "cell_type": "code",
   "execution_count": 1,
   "metadata": {},
   "outputs": [],
   "source": [
    "import polars as pl\n",
    "import pandas as pd"
   ]
  },
  {
   "cell_type": "code",
   "execution_count": 2,
   "metadata": {},
   "outputs": [],
   "source": [
    "import cx_Oracle  # o usa cx_Oracle si tu sistema lo requiere\n",
    "from sqlalchemy import create_engine"
   ]
  },
  {
   "cell_type": "code",
   "execution_count": 3,
   "metadata": {},
   "outputs": [],
   "source": [
    "import configparser\n",
    "\n",
    "config = configparser.ConfigParser()\n",
    "config.read('config.ini')\n",
    "# leer variables\n",
    "host: str = config['oracle']['host']\n",
    "port: str = config['oracle']['port']\n",
    "sid: str = config['oracle']['service_name']\n",
    "user: str = config['oracle']['user']\n",
    "password: str = config['oracle']['password']"
   ]
  },
  {
   "cell_type": "code",
   "execution_count": 4,
   "metadata": {},
   "outputs": [],
   "source": [
    "dsn: str = cx_Oracle.makedsn(host, port, sid)\n",
    "engine = create_engine(f'oracle+cx_oracle://{user}:{password}@{dsn}')"
   ]
  },
  {
   "cell_type": "code",
   "execution_count": 5,
   "metadata": {},
   "outputs": [],
   "source": [
    "query = \"\"\"\n",
    "-- Descripcion: Script para analizar la tabla de utilizaciones por servicio\n",
    "SELECT\n",
    "\tTO_CHAR(TO_DATE(UT.\"Fecha de Radicacion\", 'YYYY-MM-DD'), 'YYYYMM') AS PERIODO_RADICACION,\n",
    "\tTO_CHAR(TO_DATE(UT.\"Fecha_prestacion\" , 'YYYY-MM-DD'), 'YYYYMM') AS PERIODO_PRESTACION,\n",
    "\tUT.\"Tipo de Cuenta\" AS TIPO_CUENTA,\n",
    "\tUT.\"Estado_Factura\" AS ESTADO_FACTURA,\n",
    "\tUT.\"Lugar\" AS LUGAR,\n",
    "\tTR.\"Nombre_Ciudad_DANE\" AS MUNICIPIO_PRESTADOR,\n",
    "\tTR.\"Departamento\" AS DEPARTAMENTO_PRESTADOR,\n",
    "\tTR.\"Regional\" AS REGIONAL_PRESTADOR,\n",
    "\tUT.\"Descripcion OSI\" AS DESCRIPCION_OSI,\n",
    "\tUT.\"Grupo_Principal\" AS GRUPO_PRINCIPAL,\n",
    "\tUT.\"Nombre del prestador\" AS NOMBRE_PRESTADOR,\n",
    "\tUT.\"IDENTIFICACIÓN_DEL_PRESTADOR\" AS NIT_PRESTADOR,\n",
    "\tUT.\"SUCURSAL_IPS\" AS NOMBRE_SUCURSAL,\n",
    "\tCOUNT(1) AS REGISTROS,\n",
    "\tSUM(UT.\"Cantidad Procedimiento\") AS CANTIDAD_PROCEDIMIENTO,\n",
    "\tROUND(SUM(REPLACE(UT.\"Valor_Pagado\", '.',','))) AS VALOR_PAGADO,\n",
    "\tROUND(SUM(REPLACE(UT.\"VrGlosado Procedimiento\", '.',','))) AS VALOR_GLOSADO,\n",
    "\tROUND(SUM(REPLACE(UT.\"VrFacturado Procedimiento\", '.',','))) AS VALOR_FACTURADO\n",
    "FROM\n",
    "\tTBL_OPE_UTILIZACIONES_2023 UT\n",
    "LEFT JOIN \"Tb_Regiones\" TR\n",
    "    ON\n",
    "\tTR.\"Region\" = UT.\"DANE_Prestador\"\n",
    "GROUP BY\n",
    "\tTO_CHAR(TO_DATE(\"Fecha de Radicacion\", 'YYYY-MM-DD'), 'YYYYMM'),\n",
    "\tTO_CHAR(TO_DATE(UT.\"Fecha_prestacion\" , 'YYYY-MM-DD'), 'YYYYMM'),\n",
    "\tUT.\"Tipo de Cuenta\",\n",
    "\tUT.\"Estado_Factura\",\n",
    "\tUT.\"Lugar\",\n",
    "\tTR.\"Nombre_Ciudad_DANE\",\n",
    "\tTR.\"Departamento\",\n",
    "\tTR.\"Regional\",\n",
    "\tUT.\"Descripcion OSI\",\n",
    "\tUT.\"Grupo_Principal\",\n",
    "    UT.\"Nombre del prestador\",\n",
    "    UT.\"IDENTIFICACIÓN_DEL_PRESTADOR\",\n",
    "    UT.\"SUCURSAL_IPS\"\n",
    "ORDER BY\n",
    "\tVALOR_PAGADO DESC\n",
    "\"\"\"\n"
   ]
  },
  {
   "cell_type": "code",
   "execution_count": 6,
   "metadata": {},
   "outputs": [
    {
     "name": "stdout",
     "output_type": "stream",
     "text": [
      "Registros leídos: 100000\n",
      "Registros leídos: 200000\n",
      "Registros leídos: 300000\n",
      "Registros leídos: 400000\n",
      "Registros leídos: 500000\n",
      "Registros leídos: 600000\n",
      "Registros leídos: 700000\n",
      "Registros leídos: 800000\n",
      "Registros leídos: 900000\n",
      "Registros leídos: 1000000\n",
      "Registros leídos: 1100000\n",
      "Registros leídos: 1200000\n",
      "Registros leídos: 1300000\n",
      "Registros leídos: 1400000\n",
      "Registros leídos: 1500000\n",
      "Registros leídos: 1600000\n",
      "Registros leídos: 1700000\n",
      "Registros leídos: 1800000\n",
      "Registros leídos: 1900000\n",
      "Registros leídos: 2000000\n",
      "Registros leídos: 2100000\n",
      "Registros leídos: 2200000\n",
      "Registros leídos: 2300000\n",
      "Registros leídos: 2400000\n",
      "Registros leídos: 2500000\n",
      "Registros leídos: 2600000\n",
      "Registros leídos: 2700000\n",
      "Registros leídos: 2800000\n",
      "Registros leídos: 2900000\n",
      "Registros leídos: 3000000\n",
      "Registros leídos: 3100000\n",
      "Registros leídos: 3200000\n",
      "Registros leídos: 3300000\n",
      "Registros leídos: 3400000\n",
      "Registros leídos: 3500000\n",
      "Registros leídos: 3600000\n",
      "Registros leídos: 3700000\n",
      "Registros leídos: 3800000\n",
      "Registros leídos: 3900000\n",
      "Registros leídos: 4000000\n",
      "Registros leídos: 4100000\n",
      "Registros leídos: 4200000\n",
      "Registros leídos: 4216573\n"
     ]
    }
   ],
   "source": [
    "# Parámetros de lectura en chunks\n",
    "iter_batches = True\n",
    "batch_size = 100000  # Número de filas por chunk\n",
    "\n",
    "# Lista para almacenar los chunks\n",
    "chunks = []\n",
    "registros = 0\n",
    "\n",
    "try:\n",
    "    # Lee los datos en chunks usando iter_batches\n",
    "    for df_chunk in pl.read_database(\n",
    "        query=query,\n",
    "        connection=engine,\n",
    "        iter_batches=iter_batches,\n",
    "        batch_size=batch_size\n",
    "    ):\n",
    "        # Agrega cada chunk a la lista\n",
    "        chunks.append(df_chunk)\n",
    "        \n",
    "        registros += df_chunk.shape[0]\n",
    "        \n",
    "        print(f\"Registros leídos: {registros}\")\n",
    "        \n",
    "    # Consolida todos los chunks en un solo DataFrame\n",
    "    df_consolidado = pl.concat(chunks)\n",
    "\n",
    "except Exception as e:\n",
    "    print(\"Error al leer la base de datos:\", e)"
   ]
  },
  {
   "cell_type": "code",
   "execution_count": 7,
   "metadata": {},
   "outputs": [],
   "source": [
    "from google.cloud import bigquery"
   ]
  },
  {
   "cell_type": "code",
   "execution_count": 8,
   "metadata": {},
   "outputs": [],
   "source": [
    "import os\n",
    "\n",
    "os.environ[\"GOOGLE_APPLICATION_CREDENTIALS\"] = \"credenciales_api_Google.json\""
   ]
  },
  {
   "cell_type": "code",
   "execution_count": 9,
   "metadata": {},
   "outputs": [],
   "source": [
    "client = bigquery.Client()"
   ]
  },
  {
   "cell_type": "code",
   "execution_count": 10,
   "metadata": {},
   "outputs": [],
   "source": [
    "df_consolidado.columns = [col.upper() for col in df_consolidado.columns]"
   ]
  },
  {
   "cell_type": "code",
   "execution_count": 11,
   "metadata": {},
   "outputs": [],
   "source": [
    "# transformar nulos a vacíos\n",
    "df_consolidado = df_consolidado.fill_null('')\n",
    "# si es numero nulo reemplazar por 0\n",
    "df_consolidado = df_consolidado.fill_null(0)"
   ]
  },
  {
   "cell_type": "code",
   "execution_count": 12,
   "metadata": {},
   "outputs": [],
   "source": [
    "# Definir el esquema de la tabla (opcional pero recomendado)\n",
    "schema = [\n",
    "    bigquery.SchemaField(\"PERIODO_RADICACION\", \"STRING\", mode=\"REQUIRED\"),\n",
    "    bigquery.SchemaField(\"PERIODO_PRESTACION\", \"STRING\", mode=\"REQUIRED\"),\n",
    "    bigquery.SchemaField(\"TIPO_CUENTA\", \"STRING\", mode=\"REQUIRED\"),\n",
    "    bigquery.SchemaField(\"ESTADO_FACTURA\", \"STRING\", mode=\"REQUIRED\"),\n",
    "    bigquery.SchemaField(\"LUGAR\", \"STRING\", mode=\"REQUIRED\"),\n",
    "    bigquery.SchemaField(\"MUNICIPIO_PRESTADOR\", \"STRING\", mode=\"REQUIRED\"),\n",
    "    bigquery.SchemaField(\"DEPARTAMENTO_PRESTADOR\", \"STRING\", mode=\"REQUIRED\"),\n",
    "    bigquery.SchemaField(\"REGIONAL_PRESTADOR\", \"STRING\", mode=\"REQUIRED\"),\n",
    "    bigquery.SchemaField(\"DESCRIPCION_OSI\", \"STRING\", mode=\"REQUIRED\"),\n",
    "    bigquery.SchemaField(\"GRUPO_PRINCIPAL\", \"STRING\", mode=\"REQUIRED\"),\n",
    "    bigquery.SchemaField(\"NOMBRE_PRESTADOR\", \"STRING\", mode=\"REQUIRED\"),\n",
    "    bigquery.SchemaField(\"NIT_PRESTADOR\", \"STRING\", mode=\"REQUIRED\"),\n",
    "    bigquery.SchemaField(\"NOMBRE_SUCURSAL\", \"STRING\", mode=\"REQUIRED\"),\n",
    "    bigquery.SchemaField(\"REGISTROS\", \"INTEGER\", mode=\"REQUIRED\"),\n",
    "    bigquery.SchemaField(\"CANTIDAD_PROCEDIMIENTO\", \"INTEGER\", mode=\"REQUIRED\"),\n",
    "    bigquery.SchemaField(\"VALOR_PAGADO\", \"FLOAT\", mode=\"REQUIRED\"),\n",
    "    bigquery.SchemaField(\"VALOR_GLOSADO\", \"FLOAT\", mode=\"REQUIRED\"),\n",
    "    bigquery.SchemaField(\"VALOR_FACTURADO\", \"FLOAT\", mode=\"REQUIRED\")\n",
    "]\n"
   ]
  },
  {
   "cell_type": "code",
   "execution_count": 13,
   "metadata": {},
   "outputs": [],
   "source": [
    "# Configurar el trabajo de carga\n",
    "job_config = bigquery.LoadJobConfig(\n",
    "    schema=schema,\n",
    "    write_disposition=bigquery.WriteDisposition.WRITE_APPEND,  # Opciones: WRITE_TRUNCATE, WRITE_APPEND, WRITE_EMPTY\n",
    "    create_disposition=bigquery.CreateDisposition.CREATE_IF_NEEDED,  # Crea la tabla si no existe\n",
    ")"
   ]
  },
  {
   "cell_type": "code",
   "execution_count": 15,
   "metadata": {},
   "outputs": [],
   "source": [
    "\n",
    "# Cargar el DataFrame a BigQuery\n",
    "job = client.load_table_from_dataframe(\n",
    "    df_consolidado.to_pandas(), \n",
    "    'pruebas-406413.utilizaciones.resumen_servicios_2023', \n",
    "    job_config=job_config\n",
    ")"
   ]
  }
 ],
 "metadata": {
  "kernelspec": {
   "display_name": "env",
   "language": "python",
   "name": "python3"
  },
  "language_info": {
   "codemirror_mode": {
    "name": "ipython",
    "version": 3
   },
   "file_extension": ".py",
   "mimetype": "text/x-python",
   "name": "python",
   "nbconvert_exporter": "python",
   "pygments_lexer": "ipython3",
   "version": "3.11.7"
  }
 },
 "nbformat": 4,
 "nbformat_minor": 2
}
